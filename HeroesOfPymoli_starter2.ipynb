{
 "cells": [
  {
   "cell_type": "markdown",
   "metadata": {},
   "source": [
    "### Note\n",
    "* Instructions have been included for each segment. You do not have to follow them exactly, but they are included to help you think through the steps."
   ]
  },
  {
   "cell_type": "code",
   "execution_count": 2,
   "metadata": {},
   "outputs": [],
   "source": [
    "# Dependencies and Setup\n",
    "import pandas as pd\n",
    "import numpy as np\n",
    "\n",
    "# File to Load (Remember to Change These)\n",
    "file_to_load = \"Resources/purchase_data.csv\"\n",
    "\n",
    "# Read Purchasing File and store into Pandas data frame\n",
    "purchase_data = pd.read_csv(file_to_load)"
   ]
  },
  {
   "cell_type": "markdown",
   "metadata": {},
   "source": [
    "## Player Count"
   ]
  },
  {
   "cell_type": "markdown",
   "metadata": {},
   "source": [
    "* Display the total number of players\n"
   ]
  },
  {
   "cell_type": "code",
   "execution_count": 3,
   "metadata": {},
   "outputs": [
    {
     "data": {
      "text/html": [
       "<div>\n",
       "<style scoped>\n",
       "    .dataframe tbody tr th:only-of-type {\n",
       "        vertical-align: middle;\n",
       "    }\n",
       "\n",
       "    .dataframe tbody tr th {\n",
       "        vertical-align: top;\n",
       "    }\n",
       "\n",
       "    .dataframe thead th {\n",
       "        text-align: right;\n",
       "    }\n",
       "</style>\n",
       "<table border=\"1\" class=\"dataframe\">\n",
       "  <thead>\n",
       "    <tr style=\"text-align: right;\">\n",
       "      <th></th>\n",
       "      <th>Total Players</th>\n",
       "    </tr>\n",
       "  </thead>\n",
       "  <tbody>\n",
       "    <tr>\n",
       "      <th>0</th>\n",
       "      <td>576</td>\n",
       "    </tr>\n",
       "  </tbody>\n",
       "</table>\n",
       "</div>"
      ],
      "text/plain": [
       "   Total Players\n",
       "0            576"
      ]
     },
     "execution_count": 3,
     "metadata": {},
     "output_type": "execute_result"
    }
   ],
   "source": [
    "tot_players = len(purchase_data[\"SN\"].value_counts())\n",
    "\n",
    "#create df\n",
    "play_count = pd.DataFrame({\"Total Players\":[tot_players]})\n",
    "play_count"
   ]
  },
  {
   "cell_type": "markdown",
   "metadata": {},
   "source": [
    "## Purchasing Analysis (Total)"
   ]
  },
  {
   "cell_type": "markdown",
   "metadata": {},
   "source": [
    "* Run basic calculations to obtain number of unique items, average price, etc.\n",
    "\n",
    "\n",
    "* Create a summary data frame to hold the results\n",
    "\n",
    "\n",
    "* Optional: give the displayed data cleaner formatting\n",
    "\n",
    "\n",
    "* Display the summary data frame\n"
   ]
  },
  {
   "cell_type": "code",
   "execution_count": 6,
   "metadata": {
    "scrolled": true
   },
   "outputs": [
    {
     "data": {
      "text/html": [
       "<style  type=\"text/css\" >\n",
       "</style><table id=\"T_6fbe3_\" ><thead>    <tr>        <th class=\"blank level0\" ></th>        <th class=\"col_heading level0 col0\" >Number of Unique Items</th>        <th class=\"col_heading level0 col1\" >Average Price</th>        <th class=\"col_heading level0 col2\" >Number of Purchases</th>        <th class=\"col_heading level0 col3\" >Total Revenue</th>    </tr></thead><tbody>\n",
       "                <tr>\n",
       "                        <th id=\"T_6fbe3_level0_row0\" class=\"row_heading level0 row0\" >0</th>\n",
       "                        <td id=\"T_6fbe3_row0_col0\" class=\"data row0 col0\" >179</td>\n",
       "                        <td id=\"T_6fbe3_row0_col1\" class=\"data row0 col1\" >$3.05</td>\n",
       "                        <td id=\"T_6fbe3_row0_col2\" class=\"data row0 col2\" >780</td>\n",
       "                        <td id=\"T_6fbe3_row0_col3\" class=\"data row0 col3\" >$2,379.77</td>\n",
       "            </tr>\n",
       "    </tbody></table>"
      ],
      "text/plain": [
       "<pandas.io.formats.style.Styler at 0x1ce98ceb6a0>"
      ]
     },
     "execution_count": 6,
     "metadata": {},
     "output_type": "execute_result"
    }
   ],
   "source": [
    "unique_items = len((purchase_data[\"Item ID\"]).unique())\n",
    "avg_price = (purchase_data[\"Price\"]).mean()\n",
    "num_purchase = (purchase_data[\"Purchase ID\"]).count()\n",
    "tot_rev = (purchase_data[\"Price\"]).sum()\n",
    "\n",
    "summ_df = pd.DataFrame({\"Number of Unique Items\":[unique_items],\n",
    "                       \"Average Price\": [avg_price],\n",
    "                       \"Number of Purchases\": [num_purchase],\n",
    "                       \"Total Revenue\" : [tot_rev]})\n",
    "summ_df.style.format({\"Average Price\":\"${:,.2f}\",\"Total Revenue\":\"${:,.2f}\"})"
   ]
  },
  {
   "cell_type": "markdown",
   "metadata": {},
   "source": [
    "## Gender Demographics"
   ]
  },
  {
   "cell_type": "markdown",
   "metadata": {},
   "source": [
    "* Percentage and Count of Male Players\n",
    "\n",
    "\n",
    "* Percentage and Count of Female Players\n",
    "\n",
    "\n",
    "* Percentage and Count of Other / Non-Disclosed\n",
    "\n",
    "\n"
   ]
  },
  {
   "cell_type": "code",
   "execution_count": 30,
   "metadata": {},
   "outputs": [
    {
     "data": {
      "text/html": [
       "<style  type=\"text/css\" >\n",
       "</style><table id=\"T_3ce45_\" ><thead>    <tr>        <th class=\"blank level0\" ></th>        <th class=\"col_heading level0 col0\" >Percentage of Players</th>        <th class=\"col_heading level0 col1\" >Total Count</th>    </tr></thead><tbody>\n",
       "                <tr>\n",
       "                        <th id=\"T_3ce45_level0_row0\" class=\"row_heading level0 row0\" >Other / Non-Disclosed</th>\n",
       "                        <td id=\"T_3ce45_row0_col0\" class=\"data row0 col0\" >$1.91</td>\n",
       "                        <td id=\"T_3ce45_row0_col1\" class=\"data row0 col1\" >11</td>\n",
       "            </tr>\n",
       "            <tr>\n",
       "                        <th id=\"T_3ce45_level0_row1\" class=\"row_heading level0 row1\" >Female</th>\n",
       "                        <td id=\"T_3ce45_row1_col0\" class=\"data row1 col0\" >$14.06</td>\n",
       "                        <td id=\"T_3ce45_row1_col1\" class=\"data row1 col1\" >81</td>\n",
       "            </tr>\n",
       "            <tr>\n",
       "                        <th id=\"T_3ce45_level0_row2\" class=\"row_heading level0 row2\" >Male</th>\n",
       "                        <td id=\"T_3ce45_row2_col0\" class=\"data row2 col0\" >$84.03</td>\n",
       "                        <td id=\"T_3ce45_row2_col1\" class=\"data row2 col1\" >484</td>\n",
       "            </tr>\n",
       "    </tbody></table>"
      ],
      "text/plain": [
       "<pandas.io.formats.style.Styler at 0x1ce96b705b0>"
      ]
     },
     "execution_count": 30,
     "metadata": {},
     "output_type": "execute_result"
    }
   ],
   "source": [
    "gender_info = purchase_data.groupby(\"Gender\")\n",
    "tot_gender_count = gender_info.nunique()[\"SN\"]\n",
    "tot_player_percent = tot_gender_count / tot_players * 100\n",
    "gender_df = pd.DataFrame({\"Percentage of Players\":tot_player_percent,\n",
    "                          \"Total Count\": tot_gender_count})\n",
    "gender_df.index.name = None\n",
    "\n",
    "gender_df.sort_values([\"Total Count\"], ascending = True).style.format({\"Percentage of Players\":\"${:.2f}\"})"
   ]
  },
  {
   "cell_type": "markdown",
   "metadata": {},
   "source": [
    "\n",
    "## Purchasing Analysis (Gender)"
   ]
  },
  {
   "cell_type": "markdown",
   "metadata": {},
   "source": [
    "* Run basic calculations to obtain purchase count, avg. purchase price, avg. purchase total per person etc. by gender\n",
    "\n",
    "\n",
    "\n",
    "\n",
    "* Create a summary data frame to hold the results\n",
    "\n",
    "\n",
    "* Optional: give the displayed data cleaner formatting\n",
    "\n",
    "\n",
    "* Display the summary data frame"
   ]
  },
  {
   "cell_type": "code",
   "execution_count": 14,
   "metadata": {},
   "outputs": [
    {
     "data": {
      "text/html": [
       "<style  type=\"text/css\" >\n",
       "</style><table id=\"T_bc811_\" ><thead>    <tr>        <th class=\"blank level0\" ></th>        <th class=\"col_heading level0 col0\" >Purchase Count</th>        <th class=\"col_heading level0 col1\" >Average Purchase Price</th>        <th class=\"col_heading level0 col2\" >Average Purchase Total</th>        <th class=\"col_heading level0 col3\" >Average Purchase Total per Person</th>    </tr>    <tr>        <th class=\"index_name level0\" >Gender</th>        <th class=\"blank\" ></th>        <th class=\"blank\" ></th>        <th class=\"blank\" ></th>        <th class=\"blank\" ></th>    </tr></thead><tbody>\n",
       "                <tr>\n",
       "                        <th id=\"T_bc811_level0_row0\" class=\"row_heading level0 row0\" >Female</th>\n",
       "                        <td id=\"T_bc811_row0_col0\" class=\"data row0 col0\" >113</td>\n",
       "                        <td id=\"T_bc811_row0_col1\" class=\"data row0 col1\" >$3.20</td>\n",
       "                        <td id=\"T_bc811_row0_col2\" class=\"data row0 col2\" >$361.94</td>\n",
       "                        <td id=\"T_bc811_row0_col3\" class=\"data row0 col3\" >$446.84</td>\n",
       "            </tr>\n",
       "            <tr>\n",
       "                        <th id=\"T_bc811_level0_row1\" class=\"row_heading level0 row1\" >Male</th>\n",
       "                        <td id=\"T_bc811_row1_col0\" class=\"data row1 col0\" >652</td>\n",
       "                        <td id=\"T_bc811_row1_col1\" class=\"data row1 col1\" >$3.02</td>\n",
       "                        <td id=\"T_bc811_row1_col2\" class=\"data row1 col2\" >$1967.64</td>\n",
       "                        <td id=\"T_bc811_row1_col3\" class=\"data row1 col3\" >$406.54</td>\n",
       "            </tr>\n",
       "            <tr>\n",
       "                        <th id=\"T_bc811_level0_row2\" class=\"row_heading level0 row2\" >Other / Non-Disclosed</th>\n",
       "                        <td id=\"T_bc811_row2_col0\" class=\"data row2 col0\" >15</td>\n",
       "                        <td id=\"T_bc811_row2_col1\" class=\"data row2 col1\" >$3.35</td>\n",
       "                        <td id=\"T_bc811_row2_col2\" class=\"data row2 col2\" >$50.19</td>\n",
       "                        <td id=\"T_bc811_row2_col3\" class=\"data row2 col3\" >$456.27</td>\n",
       "            </tr>\n",
       "    </tbody></table>"
      ],
      "text/plain": [
       "<pandas.io.formats.style.Styler at 0x1ce9af611f0>"
      ]
     },
     "execution_count": 14,
     "metadata": {},
     "output_type": "execute_result"
    }
   ],
   "source": [
    "purch_count = gender_info[\"Purchase ID\"].count()\n",
    "\n",
    "avg_purch_price = gender_info[\"Price\"].mean()\n",
    "\n",
    "avg_purch_tot = gender_info[\"Price\"].sum()\n",
    "\n",
    "per_person = avg_purch_tot / tot_gender_count * 100\n",
    "\n",
    "purch_gender_df = pd.DataFrame({\"Purchase Count\" : purch_count,\n",
    "                                \"Average Purchase Price\" : avg_purch_price,\n",
    "                               \"Average Purchase Total\" : avg_purch_tot,\n",
    "                               \"Average Purchase Total per Person\" : per_person})\n",
    "\n",
    "purch_gender_df.index.name = \"Gender\"\n",
    "purch_gender_df.style.format({\"Average Purchase Price\" : \"${:.2f}\",\n",
    "                              \"Average Purchase Total\" : \"${:.2f}\",\n",
    "                              \"Average Purchase Total per Person\" : \"${:.2f}\"})"
   ]
  },
  {
   "cell_type": "markdown",
   "metadata": {},
   "source": [
    "## Age Demographics"
   ]
  },
  {
   "cell_type": "markdown",
   "metadata": {},
   "source": [
    "* Establish bins for ages\n",
    "\n",
    "\n",
    "* Categorize the existing players using the age bins. Hint: use pd.cut()\n",
    "\n",
    "\n",
    "* Calculate the numbers and percentages by age group\n",
    "\n",
    "\n",
    "* Create a summary data frame to hold the results\n",
    "\n",
    "\n",
    "* Optional: round the percentage column to two decimal points\n",
    "\n",
    "\n",
    "* Display Age Demographics Table\n"
   ]
  },
  {
   "cell_type": "code",
   "execution_count": 19,
   "metadata": {},
   "outputs": [
    {
     "data": {
      "text/html": [
       "<style  type=\"text/css\" >\n",
       "</style><table id=\"T_be5b4_\" ><thead>    <tr>        <th class=\"blank level0\" ></th>        <th class=\"col_heading level0 col0\" >Percentage of Players</th>        <th class=\"col_heading level0 col1\" >Total Count</th>    </tr></thead><tbody>\n",
       "                <tr>\n",
       "                        <th id=\"T_be5b4_level0_row0\" class=\"row_heading level0 row0\" ><10</th>\n",
       "                        <td id=\"T_be5b4_row0_col0\" class=\"data row0 col0\" >2.95</td>\n",
       "                        <td id=\"T_be5b4_row0_col1\" class=\"data row0 col1\" >17</td>\n",
       "            </tr>\n",
       "            <tr>\n",
       "                        <th id=\"T_be5b4_level0_row1\" class=\"row_heading level0 row1\" >10-14</th>\n",
       "                        <td id=\"T_be5b4_row1_col0\" class=\"data row1 col0\" >3.82</td>\n",
       "                        <td id=\"T_be5b4_row1_col1\" class=\"data row1 col1\" >22</td>\n",
       "            </tr>\n",
       "            <tr>\n",
       "                        <th id=\"T_be5b4_level0_row2\" class=\"row_heading level0 row2\" >15-19</th>\n",
       "                        <td id=\"T_be5b4_row2_col0\" class=\"data row2 col0\" >18.58</td>\n",
       "                        <td id=\"T_be5b4_row2_col1\" class=\"data row2 col1\" >107</td>\n",
       "            </tr>\n",
       "            <tr>\n",
       "                        <th id=\"T_be5b4_level0_row3\" class=\"row_heading level0 row3\" >20-24</th>\n",
       "                        <td id=\"T_be5b4_row3_col0\" class=\"data row3 col0\" >44.79</td>\n",
       "                        <td id=\"T_be5b4_row3_col1\" class=\"data row3 col1\" >258</td>\n",
       "            </tr>\n",
       "            <tr>\n",
       "                        <th id=\"T_be5b4_level0_row4\" class=\"row_heading level0 row4\" >25-29</th>\n",
       "                        <td id=\"T_be5b4_row4_col0\" class=\"data row4 col0\" >13.37</td>\n",
       "                        <td id=\"T_be5b4_row4_col1\" class=\"data row4 col1\" >77</td>\n",
       "            </tr>\n",
       "            <tr>\n",
       "                        <th id=\"T_be5b4_level0_row5\" class=\"row_heading level0 row5\" >30-34</th>\n",
       "                        <td id=\"T_be5b4_row5_col0\" class=\"data row5 col0\" >9.03</td>\n",
       "                        <td id=\"T_be5b4_row5_col1\" class=\"data row5 col1\" >52</td>\n",
       "            </tr>\n",
       "            <tr>\n",
       "                        <th id=\"T_be5b4_level0_row6\" class=\"row_heading level0 row6\" >35-39</th>\n",
       "                        <td id=\"T_be5b4_row6_col0\" class=\"data row6 col0\" >5.38</td>\n",
       "                        <td id=\"T_be5b4_row6_col1\" class=\"data row6 col1\" >31</td>\n",
       "            </tr>\n",
       "            <tr>\n",
       "                        <th id=\"T_be5b4_level0_row7\" class=\"row_heading level0 row7\" >40+</th>\n",
       "                        <td id=\"T_be5b4_row7_col0\" class=\"data row7 col0\" >2.08</td>\n",
       "                        <td id=\"T_be5b4_row7_col1\" class=\"data row7 col1\" >12</td>\n",
       "            </tr>\n",
       "    </tbody></table>"
      ],
      "text/plain": [
       "<pandas.io.formats.style.Styler at 0x1ce98ceb5e0>"
      ]
     },
     "execution_count": 19,
     "metadata": {},
     "output_type": "execute_result"
    }
   ],
   "source": [
    "ages = [0, 9.90, 14.90, 19.90, 24.90, 29.90, 34.90, 39.90, 999]\n",
    "age_ranges = ['<10', '10-14', '15-19', '20-24', '25-29', '30-34', '35-39', '40+']\n",
    "\n",
    "purchase_data['Age Group'] = pd.cut(purchase_data['Age'], ages, labels = age_ranges)\n",
    "purchase_data\n",
    "\n",
    "age_grp = purchase_data.groupby('Age Group')\n",
    "\n",
    "tot_count_age = age_grp['SN'].nunique()\n",
    "\n",
    "percent_by_age = (tot_count_age/tot_players) * 100\n",
    "\n",
    "age_demo = pd.DataFrame({'Percentage of Players': percent_by_age, 'Total Count': tot_count_age})\n",
    "age_demo.index.name = None\n",
    "\n",
    "age_demo.style.format({'Percentage of Players': '{:,.2f}'})"
   ]
  },
  {
   "cell_type": "markdown",
   "metadata": {},
   "source": [
    "## Purchasing Analysis (Age)"
   ]
  },
  {
   "cell_type": "markdown",
   "metadata": {},
   "source": [
    "* Bin the purchase_data data frame by age\n",
    "\n",
    "\n",
    "* Run basic calculations to obtain purchase count, avg. purchase price, avg. purchase total per person etc. in the table below\n",
    "\n",
    "\n",
    "* Create a summary data frame to hold the results\n",
    "\n",
    "\n",
    "* Optional: give the displayed data cleaner formatting\n",
    "\n",
    "\n",
    "* Display the summary data frame"
   ]
  },
  {
   "cell_type": "code",
   "execution_count": 22,
   "metadata": {},
   "outputs": [
    {
     "data": {
      "text/html": [
       "<style  type=\"text/css\" >\n",
       "</style><table id=\"T_6711a_\" ><thead>    <tr>        <th class=\"blank level0\" ></th>        <th class=\"col_heading level0 col0\" >Purchase Count</th>        <th class=\"col_heading level0 col1\" >Average Purchase Price</th>        <th class=\"col_heading level0 col2\" >Total Purchase Value</th>        <th class=\"col_heading level0 col3\" >Average Purchase Total per Person</th>    </tr></thead><tbody>\n",
       "                <tr>\n",
       "                        <th id=\"T_6711a_level0_row0\" class=\"row_heading level0 row0\" ><10</th>\n",
       "                        <td id=\"T_6711a_row0_col0\" class=\"data row0 col0\" >23</td>\n",
       "                        <td id=\"T_6711a_row0_col1\" class=\"data row0 col1\" >$3.35</td>\n",
       "                        <td id=\"T_6711a_row0_col2\" class=\"data row0 col2\" >$77.13</td>\n",
       "                        <td id=\"T_6711a_row0_col3\" class=\"data row0 col3\" >$4.54</td>\n",
       "            </tr>\n",
       "            <tr>\n",
       "                        <th id=\"T_6711a_level0_row1\" class=\"row_heading level0 row1\" >10-14</th>\n",
       "                        <td id=\"T_6711a_row1_col0\" class=\"data row1 col0\" >28</td>\n",
       "                        <td id=\"T_6711a_row1_col1\" class=\"data row1 col1\" >$2.96</td>\n",
       "                        <td id=\"T_6711a_row1_col2\" class=\"data row1 col2\" >$82.78</td>\n",
       "                        <td id=\"T_6711a_row1_col3\" class=\"data row1 col3\" >$3.76</td>\n",
       "            </tr>\n",
       "            <tr>\n",
       "                        <th id=\"T_6711a_level0_row2\" class=\"row_heading level0 row2\" >15-19</th>\n",
       "                        <td id=\"T_6711a_row2_col0\" class=\"data row2 col0\" >136</td>\n",
       "                        <td id=\"T_6711a_row2_col1\" class=\"data row2 col1\" >$3.04</td>\n",
       "                        <td id=\"T_6711a_row2_col2\" class=\"data row2 col2\" >$412.89</td>\n",
       "                        <td id=\"T_6711a_row2_col3\" class=\"data row2 col3\" >$3.86</td>\n",
       "            </tr>\n",
       "            <tr>\n",
       "                        <th id=\"T_6711a_level0_row3\" class=\"row_heading level0 row3\" >20-24</th>\n",
       "                        <td id=\"T_6711a_row3_col0\" class=\"data row3 col0\" >365</td>\n",
       "                        <td id=\"T_6711a_row3_col1\" class=\"data row3 col1\" >$3.05</td>\n",
       "                        <td id=\"T_6711a_row3_col2\" class=\"data row3 col2\" >$1114.06</td>\n",
       "                        <td id=\"T_6711a_row3_col3\" class=\"data row3 col3\" >$4.32</td>\n",
       "            </tr>\n",
       "            <tr>\n",
       "                        <th id=\"T_6711a_level0_row4\" class=\"row_heading level0 row4\" >25-29</th>\n",
       "                        <td id=\"T_6711a_row4_col0\" class=\"data row4 col0\" >101</td>\n",
       "                        <td id=\"T_6711a_row4_col1\" class=\"data row4 col1\" >$2.90</td>\n",
       "                        <td id=\"T_6711a_row4_col2\" class=\"data row4 col2\" >$293.00</td>\n",
       "                        <td id=\"T_6711a_row4_col3\" class=\"data row4 col3\" >$3.81</td>\n",
       "            </tr>\n",
       "            <tr>\n",
       "                        <th id=\"T_6711a_level0_row5\" class=\"row_heading level0 row5\" >30-34</th>\n",
       "                        <td id=\"T_6711a_row5_col0\" class=\"data row5 col0\" >73</td>\n",
       "                        <td id=\"T_6711a_row5_col1\" class=\"data row5 col1\" >$2.93</td>\n",
       "                        <td id=\"T_6711a_row5_col2\" class=\"data row5 col2\" >$214.00</td>\n",
       "                        <td id=\"T_6711a_row5_col3\" class=\"data row5 col3\" >$4.12</td>\n",
       "            </tr>\n",
       "            <tr>\n",
       "                        <th id=\"T_6711a_level0_row6\" class=\"row_heading level0 row6\" >35-39</th>\n",
       "                        <td id=\"T_6711a_row6_col0\" class=\"data row6 col0\" >41</td>\n",
       "                        <td id=\"T_6711a_row6_col1\" class=\"data row6 col1\" >$3.60</td>\n",
       "                        <td id=\"T_6711a_row6_col2\" class=\"data row6 col2\" >$147.67</td>\n",
       "                        <td id=\"T_6711a_row6_col3\" class=\"data row6 col3\" >$4.76</td>\n",
       "            </tr>\n",
       "            <tr>\n",
       "                        <th id=\"T_6711a_level0_row7\" class=\"row_heading level0 row7\" >40+</th>\n",
       "                        <td id=\"T_6711a_row7_col0\" class=\"data row7 col0\" >13</td>\n",
       "                        <td id=\"T_6711a_row7_col1\" class=\"data row7 col1\" >$2.94</td>\n",
       "                        <td id=\"T_6711a_row7_col2\" class=\"data row7 col2\" >$38.24</td>\n",
       "                        <td id=\"T_6711a_row7_col3\" class=\"data row7 col3\" >$3.19</td>\n",
       "            </tr>\n",
       "    </tbody></table>"
      ],
      "text/plain": [
       "<pandas.io.formats.style.Styler at 0x1ce9aed4b50>"
      ]
     },
     "execution_count": 22,
     "metadata": {},
     "output_type": "execute_result"
    }
   ],
   "source": [
    "purchase_count_age = age_grp['Purchase ID'].count()\n",
    "\n",
    "avg_purchase_price_age = age_grp['Price'].mean()\n",
    "\n",
    "tot_purchase_value = age_grp['Price'].sum()\n",
    "\n",
    "avg_purchase_value = tot_purchase_value/tot_count_age\n",
    "\n",
    "age_demo = pd.DataFrame({\"Purchase Count\" : purchase_count_age,\n",
    "                         \"Average Purchase Price\" : avg_purchase_price_age,\n",
    "                         \"Total Purchase Value\" : tot_purchase_value,\n",
    "                         \"Average Purchase Total per Person\" : avg_purchase_value})\n",
    "age_demo.index.name = None\n",
    "\n",
    "\n",
    "age_demo.style.format({\"Average Purchase Price\" : \"${:.2f}\",\n",
    "                       \"Total Purchase Value\" : \"${:.2f}\",\n",
    "                       \"Average Purchase Total per Person\" : \"${:.2f}\"})"
   ]
  },
  {
   "cell_type": "markdown",
   "metadata": {},
   "source": [
    "## Top Spenders"
   ]
  },
  {
   "cell_type": "markdown",
   "metadata": {},
   "source": [
    "* Run basic calculations to obtain the results in the table below\n",
    "\n",
    "\n",
    "* Create a summary data frame to hold the results\n",
    "\n",
    "\n",
    "* Sort the total purchase value column in descending order\n",
    "\n",
    "\n",
    "* Optional: give the displayed data cleaner formatting\n",
    "\n",
    "\n",
    "* Display a preview of the summary data frame\n",
    "\n"
   ]
  },
  {
   "cell_type": "code",
   "execution_count": 27,
   "metadata": {},
   "outputs": [
    {
     "data": {
      "text/html": [
       "<style  type=\"text/css\" >\n",
       "</style><table id=\"T_b8b03_\" ><thead>    <tr>        <th class=\"blank level0\" ></th>        <th class=\"col_heading level0 col0\" >Purchase Count</th>        <th class=\"col_heading level0 col1\" >Average Purchase Price</th>        <th class=\"col_heading level0 col2\" >Total Purchase Value</th>    </tr>    <tr>        <th class=\"index_name level0\" >SN</th>        <th class=\"blank\" ></th>        <th class=\"blank\" ></th>        <th class=\"blank\" ></th>    </tr></thead><tbody>\n",
       "                <tr>\n",
       "                        <th id=\"T_b8b03_level0_row0\" class=\"row_heading level0 row0\" >Alo38</th>\n",
       "                        <td id=\"T_b8b03_row0_col0\" class=\"data row0 col0\" >1</td>\n",
       "                        <td id=\"T_b8b03_row0_col1\" class=\"data row0 col1\" >$1.00</td>\n",
       "                        <td id=\"T_b8b03_row0_col2\" class=\"data row0 col2\" >$1.00</td>\n",
       "            </tr>\n",
       "            <tr>\n",
       "                        <th id=\"T_b8b03_level0_row1\" class=\"row_heading level0 row1\" >Aidai61</th>\n",
       "                        <td id=\"T_b8b03_row1_col0\" class=\"data row1 col0\" >1</td>\n",
       "                        <td id=\"T_b8b03_row1_col1\" class=\"data row1 col1\" >$1.01</td>\n",
       "                        <td id=\"T_b8b03_row1_col2\" class=\"data row1 col2\" >$1.01</td>\n",
       "            </tr>\n",
       "            <tr>\n",
       "                        <th id=\"T_b8b03_level0_row2\" class=\"row_heading level0 row2\" >Chanirra79</th>\n",
       "                        <td id=\"T_b8b03_row2_col0\" class=\"data row2 col0\" >1</td>\n",
       "                        <td id=\"T_b8b03_row2_col1\" class=\"data row2 col1\" >$1.01</td>\n",
       "                        <td id=\"T_b8b03_row2_col2\" class=\"data row2 col2\" >$1.01</td>\n",
       "            </tr>\n",
       "            <tr>\n",
       "                        <th id=\"T_b8b03_level0_row3\" class=\"row_heading level0 row3\" >Isurria36</th>\n",
       "                        <td id=\"T_b8b03_row3_col0\" class=\"data row3 col0\" >1</td>\n",
       "                        <td id=\"T_b8b03_row3_col1\" class=\"data row3 col1\" >$1.02</td>\n",
       "                        <td id=\"T_b8b03_row3_col2\" class=\"data row3 col2\" >$1.02</td>\n",
       "            </tr>\n",
       "            <tr>\n",
       "                        <th id=\"T_b8b03_level0_row4\" class=\"row_heading level0 row4\" >Irilis75</th>\n",
       "                        <td id=\"T_b8b03_row4_col0\" class=\"data row4 col0\" >1</td>\n",
       "                        <td id=\"T_b8b03_row4_col1\" class=\"data row4 col1\" >$1.02</td>\n",
       "                        <td id=\"T_b8b03_row4_col2\" class=\"data row4 col2\" >$1.02</td>\n",
       "            </tr>\n",
       "    </tbody></table>"
      ],
      "text/plain": [
       "<pandas.io.formats.style.Styler at 0x1ce9af61820>"
      ]
     },
     "execution_count": 27,
     "metadata": {},
     "output_type": "execute_result"
    }
   ],
   "source": [
    "spender_stats = purchase_data.groupby('SN')\n",
    "\n",
    "purch_count_spender = spender_stats['Purchase ID'].count()\n",
    "\n",
    "avg_purch_price = spender_stats['Price'].mean()\n",
    "\n",
    "purch_total_spender = spender_stats['Price'].sum()\n",
    "\n",
    "top_spenders = pd.DataFrame({\"Purchase Count\" : purch_count_spender,\n",
    "                         \"Average Purchase Price\" : avg_purch_price,\n",
    "                         \"Total Purchase Value\" : purch_total_spender})\n",
    "format_spenders = top_spenders.sort_values(['Total Purchase Value'], ascending = True).head()\n",
    "\n",
    "format_spenders.style.format({\"Average Purchase Price\" : \"${:.2f}\",\n",
    "                       \"Total Purchase Value\" : \"${:.2f}\",\n",
    "                       \"Total Purchase Value\" : \"${:.2f}\"})"
   ]
  },
  {
   "cell_type": "markdown",
   "metadata": {},
   "source": [
    "## Most Popular Items"
   ]
  },
  {
   "cell_type": "markdown",
   "metadata": {},
   "source": [
    "* Retrieve the Item ID, Item Name, and Item Price columns\n",
    "\n",
    "\n",
    "* Group by Item ID and Item Name. Perform calculations to obtain purchase count, average item price, and total purchase value\n",
    "\n",
    "\n",
    "* Create a summary data frame to hold the results\n",
    "\n",
    "\n",
    "* Sort the purchase count column in descending order\n",
    "\n",
    "\n",
    "* Optional: give the displayed data cleaner formatting\n",
    "\n",
    "\n",
    "* Display a preview of the summary data frame\n",
    "\n"
   ]
  },
  {
   "cell_type": "code",
   "execution_count": 28,
   "metadata": {},
   "outputs": [
    {
     "data": {
      "text/html": [
       "<style  type=\"text/css\" >\n",
       "</style><table id=\"T_0dc06_\" ><thead>    <tr>        <th class=\"blank\" ></th>        <th class=\"blank level0\" ></th>        <th class=\"col_heading level0 col0\" >Purchase Count</th>        <th class=\"col_heading level0 col1\" >Item Price</th>        <th class=\"col_heading level0 col2\" >Total Purchase Value</th>    </tr>    <tr>        <th class=\"index_name level0\" >Item ID</th>        <th class=\"index_name level1\" >Item Name</th>        <th class=\"blank\" ></th>        <th class=\"blank\" ></th>        <th class=\"blank\" ></th>    </tr></thead><tbody>\n",
       "                <tr>\n",
       "                        <th id=\"T_0dc06_level0_row0\" class=\"row_heading level0 row0\" >91</th>\n",
       "                        <th id=\"T_0dc06_level1_row0\" class=\"row_heading level1 row0\" >Celeste</th>\n",
       "                        <td id=\"T_0dc06_row0_col0\" class=\"data row0 col0\" >1</td>\n",
       "                        <td id=\"T_0dc06_row0_col1\" class=\"data row0 col1\" >$4.17</td>\n",
       "                        <td id=\"T_0dc06_row0_col2\" class=\"data row0 col2\" >$4.17</td>\n",
       "            </tr>\n",
       "            <tr>\n",
       "                        <th id=\"T_0dc06_level0_row1\" class=\"row_heading level0 row1\" >118</th>\n",
       "                        <th id=\"T_0dc06_level1_row1\" class=\"row_heading level1 row1\" >Ghost Reaver, Longsword of Magic</th>\n",
       "                        <td id=\"T_0dc06_row1_col0\" class=\"data row1 col0\" >1</td>\n",
       "                        <td id=\"T_0dc06_row1_col1\" class=\"data row1 col1\" >$2.17</td>\n",
       "                        <td id=\"T_0dc06_row1_col2\" class=\"data row1 col2\" >$2.17</td>\n",
       "            </tr>\n",
       "            <tr>\n",
       "                        <th id=\"T_0dc06_level0_row2\" class=\"row_heading level0 row2\" >134</th>\n",
       "                        <th id=\"T_0dc06_level1_row2\" class=\"row_heading level1 row2\" >Undead Crusader</th>\n",
       "                        <td id=\"T_0dc06_row2_col0\" class=\"data row2 col0\" >1</td>\n",
       "                        <td id=\"T_0dc06_row2_col1\" class=\"data row2 col1\" >$4.50</td>\n",
       "                        <td id=\"T_0dc06_row2_col2\" class=\"data row2 col2\" >$4.50</td>\n",
       "            </tr>\n",
       "            <tr>\n",
       "                        <th id=\"T_0dc06_level0_row3\" class=\"row_heading level0 row3\" >27</th>\n",
       "                        <th id=\"T_0dc06_level1_row3\" class=\"row_heading level1 row3\" >Riddle, Tribute of Ended Dreams</th>\n",
       "                        <td id=\"T_0dc06_row3_col0\" class=\"data row3 col0\" >1</td>\n",
       "                        <td id=\"T_0dc06_row3_col1\" class=\"data row3 col1\" >$3.30</td>\n",
       "                        <td id=\"T_0dc06_row3_col2\" class=\"data row3 col2\" >$3.30</td>\n",
       "            </tr>\n",
       "            <tr>\n",
       "                        <th id=\"T_0dc06_level0_row4\" class=\"row_heading level0 row4\" >104</th>\n",
       "                        <th id=\"T_0dc06_level1_row4\" class=\"row_heading level1 row4\" >Gladiator's Glaive</th>\n",
       "                        <td id=\"T_0dc06_row4_col0\" class=\"data row4 col0\" >1</td>\n",
       "                        <td id=\"T_0dc06_row4_col1\" class=\"data row4 col1\" >$1.93</td>\n",
       "                        <td id=\"T_0dc06_row4_col2\" class=\"data row4 col2\" >$1.93</td>\n",
       "            </tr>\n",
       "    </tbody></table>"
      ],
      "text/plain": [
       "<pandas.io.formats.style.Styler at 0x1ce9af9f790>"
      ]
     },
     "execution_count": 28,
     "metadata": {},
     "output_type": "execute_result"
    }
   ],
   "source": [
    "items = purchase_data[['Item ID', 'Item Name', 'Price']]\n",
    "item_stats = items.groupby(['Item ID', 'Item Name'])\n",
    "\n",
    "purch_count_item = item_stats['Price'].count()\n",
    "\n",
    "purch_value = (item_stats['Price'].sum())\n",
    "\n",
    "item_price = purch_value / purch_count_item\n",
    "\n",
    "pop_items = pd.DataFrame({\"Purchase Count\" : purch_count_item,\n",
    "                         \"Item Price\" : item_price,\n",
    "                         \"Total Purchase Value\" : purch_value})\n",
    "format_pop = pop_items.sort_values(['Purchase Count'], ascending = True).head()\n",
    "\n",
    "format_pop.style.format({\"Item Price\" : \"${:.2f}\",\n",
    "                         \"Total Purchase Value\" : \"${:.2f}\"})"
   ]
  },
  {
   "cell_type": "markdown",
   "metadata": {},
   "source": [
    "## Most Profitable Items"
   ]
  },
  {
   "cell_type": "markdown",
   "metadata": {},
   "source": [
    "* Sort the above table by total purchase value in descending order\n",
    "\n",
    "\n",
    "* Optional: give the displayed data cleaner formatting\n",
    "\n",
    "\n",
    "* Display a preview of the data frame\n",
    "\n"
   ]
  },
  {
   "cell_type": "code",
   "execution_count": 29,
   "metadata": {
    "scrolled": true
   },
   "outputs": [
    {
     "data": {
      "text/html": [
       "<style  type=\"text/css\" >\n",
       "</style><table id=\"T_c1440_\" ><thead>    <tr>        <th class=\"blank\" ></th>        <th class=\"blank level0\" ></th>        <th class=\"col_heading level0 col0\" >Purchase Count</th>        <th class=\"col_heading level0 col1\" >Item Price</th>        <th class=\"col_heading level0 col2\" >Total Purchase Value</th>    </tr>    <tr>        <th class=\"index_name level0\" >Item ID</th>        <th class=\"index_name level1\" >Item Name</th>        <th class=\"blank\" ></th>        <th class=\"blank\" ></th>        <th class=\"blank\" ></th>    </tr></thead><tbody>\n",
       "                <tr>\n",
       "                        <th id=\"T_c1440_level0_row0\" class=\"row_heading level0 row0\" >42</th>\n",
       "                        <th id=\"T_c1440_level1_row0\" class=\"row_heading level1 row0\" >The Decapitator</th>\n",
       "                        <td id=\"T_c1440_row0_col0\" class=\"data row0 col0\" >1</td>\n",
       "                        <td id=\"T_c1440_row0_col1\" class=\"data row0 col1\" >$1.75</td>\n",
       "                        <td id=\"T_c1440_row0_col2\" class=\"data row0 col2\" >$1.75</td>\n",
       "            </tr>\n",
       "            <tr>\n",
       "                        <th id=\"T_c1440_level0_row1\" class=\"row_heading level0 row1\" >104</th>\n",
       "                        <th id=\"T_c1440_level1_row1\" class=\"row_heading level1 row1\" >Gladiator's Glaive</th>\n",
       "                        <td id=\"T_c1440_row1_col0\" class=\"data row1 col0\" >1</td>\n",
       "                        <td id=\"T_c1440_row1_col1\" class=\"data row1 col1\" >$1.93</td>\n",
       "                        <td id=\"T_c1440_row1_col2\" class=\"data row1 col2\" >$1.93</td>\n",
       "            </tr>\n",
       "            <tr>\n",
       "                        <th id=\"T_c1440_level0_row2\" class=\"row_heading level0 row2\" >126</th>\n",
       "                        <th id=\"T_c1440_level1_row2\" class=\"row_heading level1 row2\" >Exiled Mithril Longsword</th>\n",
       "                        <td id=\"T_c1440_row2_col0\" class=\"data row2 col0\" >1</td>\n",
       "                        <td id=\"T_c1440_row2_col1\" class=\"data row2 col1\" >$2.00</td>\n",
       "                        <td id=\"T_c1440_row2_col2\" class=\"data row2 col2\" >$2.00</td>\n",
       "            </tr>\n",
       "            <tr>\n",
       "                        <th id=\"T_c1440_level0_row3\" class=\"row_heading level0 row3\" >125</th>\n",
       "                        <th id=\"T_c1440_level1_row3\" class=\"row_heading level1 row3\" >Whistling Mithril Warblade</th>\n",
       "                        <td id=\"T_c1440_row3_col0\" class=\"data row3 col0\" >2</td>\n",
       "                        <td id=\"T_c1440_row3_col1\" class=\"data row3 col1\" >$1.00</td>\n",
       "                        <td id=\"T_c1440_row3_col2\" class=\"data row3 col2\" >$2.00</td>\n",
       "            </tr>\n",
       "            <tr>\n",
       "                        <th id=\"T_c1440_level0_row4\" class=\"row_heading level0 row4\" >28</th>\n",
       "                        <th id=\"T_c1440_level1_row4\" class=\"row_heading level1 row4\" >Flux, Destroyer of Due Diligence</th>\n",
       "                        <td id=\"T_c1440_row4_col0\" class=\"data row4 col0\" >2</td>\n",
       "                        <td id=\"T_c1440_row4_col1\" class=\"data row4 col1\" >$1.06</td>\n",
       "                        <td id=\"T_c1440_row4_col2\" class=\"data row4 col2\" >$2.12</td>\n",
       "            </tr>\n",
       "    </tbody></table>"
      ],
      "text/plain": [
       "<pandas.io.formats.style.Styler at 0x1ce9af93b20>"
      ]
     },
     "execution_count": 29,
     "metadata": {},
     "output_type": "execute_result"
    }
   ],
   "source": [
    "profit_format = pop_items.sort_values(['Total Purchase Value'], ascending = True).head()\n",
    "\n",
    "profit_format.style.format({\"Item Price\" : \"${:.2f}\",\n",
    "                         \"Total Purchase Value\" : \"${:.2f}\"})"
   ]
  },
  {
   "cell_type": "code",
   "execution_count": null,
   "metadata": {},
   "outputs": [],
   "source": []
  }
 ],
 "metadata": {
  "anaconda-cloud": {},
  "kernel_info": {
   "name": "python3"
  },
  "kernelspec": {
   "display_name": "Python 3",
   "language": "python",
   "name": "python3"
  },
  "language_info": {
   "codemirror_mode": {
    "name": "ipython",
    "version": 3
   },
   "file_extension": ".py",
   "mimetype": "text/x-python",
   "name": "python",
   "nbconvert_exporter": "python",
   "pygments_lexer": "ipython3",
   "version": "3.8.8"
  },
  "latex_envs": {
   "LaTeX_envs_menu_present": true,
   "autoclose": false,
   "autocomplete": true,
   "bibliofile": "biblio.bib",
   "cite_by": "apalike",
   "current_citInitial": 1,
   "eqLabelWithNumbers": true,
   "eqNumInitial": 1,
   "hotkeys": {
    "equation": "Ctrl-E",
    "itemize": "Ctrl-I"
   },
   "labels_anchors": false,
   "latex_user_defs": false,
   "report_style_numbering": false,
   "user_envs_cfg": false
  },
  "nteract": {
   "version": "0.2.0"
  }
 },
 "nbformat": 4,
 "nbformat_minor": 2
}
